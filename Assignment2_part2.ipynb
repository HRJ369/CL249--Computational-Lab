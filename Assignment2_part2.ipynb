{
  "nbformat": 4,
  "nbformat_minor": 0,
  "metadata": {
    "colab": {
      "provenance": [],
      "authorship_tag": "ABX9TyNEiI/JXO0rhRTwPQY3QpTA",
      "include_colab_link": true
    },
    "kernelspec": {
      "name": "python3",
      "display_name": "Python 3"
    },
    "language_info": {
      "name": "python"
    }
  },
  "cells": [
    {
      "cell_type": "markdown",
      "metadata": {
        "id": "view-in-github",
        "colab_type": "text"
      },
      "source": [
        "<a href=\"https://colab.research.google.com/github/HRJ369/CL249--Computational-Lab/blob/main/Assignment2_part2.ipynb\" target=\"_parent\"><img src=\"https://colab.research.google.com/assets/colab-badge.svg\" alt=\"Open In Colab\"/></a>"
      ]
    },
    {
      "cell_type": "code",
      "execution_count": 2,
      "metadata": {
        "colab": {
          "base_uri": "https://localhost:8080/"
        },
        "id": "ImxqQVNneQv5",
        "outputId": "f1aa6efe-4a6e-4e0d-b100-848e773f503c"
      },
      "outputs": [
        {
          "output_type": "stream",
          "name": "stdout",
          "text": [
            "Results using Newton-Raphson Method:\n",
            "Root: x = 1.61803, y = 1.61803\n",
            "Iterations: 5\n",
            "\n",
            "Results using Fixed-Point Iteration Method:\n",
            "Root: x = 1.61803, y = 1.61803\n",
            "Iterations: 13\n"
          ]
        }
      ],
      "source": [
        "import numpy as np\n",
        "\n",
        "# Define the nonlinear functions\n",
        "def equation_1(x, y):\n",
        "    \"\"\"Compute the result of the first equation: x^2 - y - 1.\"\"\"\n",
        "    return x**2 - y - 1\n",
        "\n",
        "def equation_2(x, y):\n",
        "    \"\"\"Compute the result of the second equation: y^2 - x - 1.\"\"\"\n",
        "    return y**2 - x - 1\n",
        "\n",
        "# Define the Jacobian matrix for the system\n",
        "def compute_jacobian(x, y):\n",
        "    \"\"\"Return the Jacobian matrix for the system of equations.\"\"\"\n",
        "    return np.array([[2*x, -1], [-1, 2*y]])\n",
        "\n",
        "# Implement the Newton-Raphson method\n",
        "def apply_newton_raphson(x_initial, y_initial, tolerance=1e-6, max_iterations=100):\n",
        "    \"\"\"Solve the system using the Newton-Raphson method.\"\"\"\n",
        "    x, y = x_initial, y_initial\n",
        "    for iteration in range(max_iterations):\n",
        "        # Calculate the inverse of the Jacobian matrix\n",
        "        jacobian_inverse = np.linalg.inv(compute_jacobian(x, y))\n",
        "        # Evaluate the system of equations at the current point\n",
        "        functions_eval = np.array([equation_1(x, y), equation_2(x, y)])\n",
        "        # Update the estimates for x and y\n",
        "        x_new, y_new = np.array([x, y]) - jacobian_inverse.dot(functions_eval)\n",
        "        # Check if the solution has converged\n",
        "        if np.linalg.norm([x_new - x, y_new - y]) < tolerance:\n",
        "            return x_new, y_new, iteration + 1\n",
        "        x, y = x_new, y_new\n",
        "    return x, y, max_iterations\n",
        "\n",
        "# Implement the Fixed-Point Iteration method\n",
        "def apply_fixed_point_iteration(x_initial, y_initial, tolerance=1e-6, max_iterations=100):\n",
        "    \"\"\"Solve the system using the Fixed-Point Iteration method.\"\"\"\n",
        "    x, y = x_initial, y_initial\n",
        "    for iteration in range(max_iterations):\n",
        "        # Use fixed-point formulas to update x and y\n",
        "        x_new = np.sqrt(y + 1)\n",
        "        y_new = np.sqrt(x + 1)\n",
        "        # Check if the solution has converged\n",
        "        if np.linalg.norm([x_new - x, y_new - y]) < tolerance:\n",
        "            return x_new, y_new, iteration + 1\n",
        "        x, y = x_new, y_new\n",
        "    return x, y, max_iterations\n",
        "\n",
        "# Initial guesses for x and y\n",
        "x_initial, y_initial = 1, 1\n",
        "\n",
        "# Solve using the Newton-Raphson method\n",
        "newton_solution, newton_iterations = apply_newton_raphson(x_initial, y_initial)[:2], apply_newton_raphson(x_initial, y_initial)[2]\n",
        "\n",
        "# Solve using the Fixed-Point Iteration method\n",
        "fixed_point_solution, fixed_point_iterations = apply_fixed_point_iteration(x_initial, y_initial)[:2], apply_fixed_point_iteration(x_initial, y_initial)[2]\n",
        "\n",
        "# Output the results\n",
        "print(\"Results using Newton-Raphson Method:\")\n",
        "print(f\"Root: x = {newton_solution[0]:.5f}, y = {newton_solution[1]:.5f}\")\n",
        "print(f\"Iterations: {newton_iterations}\")\n",
        "\n",
        "print(\"\\nResults using Fixed-Point Iteration Method:\")\n",
        "print(f\"Root: x = {fixed_point_solution[0]:.5f}, y = {fixed_point_solution[1]:.5f}\")\n",
        "print(f\"Iterations: {fixed_point_iterations}\")\n"
      ]
    }
  ]
}