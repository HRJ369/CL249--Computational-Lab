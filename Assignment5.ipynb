{
  "nbformat": 4,
  "nbformat_minor": 0,
  "metadata": {
    "colab": {
      "provenance": [],
      "authorship_tag": "ABX9TyMIPrbIRR6AK6e0c9c6KVOE",
      "include_colab_link": true
    },
    "kernelspec": {
      "name": "python3",
      "display_name": "Python 3"
    },
    "language_info": {
      "name": "python"
    }
  },
  "cells": [
    {
      "cell_type": "markdown",
      "metadata": {
        "id": "view-in-github",
        "colab_type": "text"
      },
      "source": [
        "<a href=\"https://colab.research.google.com/github/HRJ369/CL249--Computational-Lab/blob/main/Assignment5.ipynb\" target=\"_parent\"><img src=\"https://colab.research.google.com/assets/colab-badge.svg\" alt=\"Open In Colab\"/></a>"
      ]
    },
    {
      "cell_type": "code",
      "execution_count": 1,
      "metadata": {
        "colab": {
          "base_uri": "https://localhost:8080/"
        },
        "id": "5nE2u4pKOjqO",
        "outputId": "c6caa6d2-c15b-4d6f-80cf-48e1025bec8e"
      },
      "outputs": [
        {
          "output_type": "stream",
          "name": "stdout",
          "text": [
            "Riemann Midpoint Result: 1011.75\n",
            "2-Point Gaussian Quadrature Result: 672.0000000000005\n",
            "3-Point Gaussian Quadrature Result: 1104.0000000000002\n"
          ]
        }
      ],
      "source": [
        "import numpy as np # type: ignore\n",
        "\n",
        "# Define the function to integrate\n",
        "def f(x):\n",
        "    return 1 - x - 4*x**3 + 2*x**5\n",
        "\n",
        "# Midpoint rule implementation\n",
        "def riemann_midpoint(a, b, n):\n",
        "    # Calculate the width of each subinterval\n",
        "    dx = (b - a) / n\n",
        "    result = 0\n",
        "    for i in range(n):\n",
        "        # Midpoint of each subinterval\n",
        "        xi = a + (i + 0.5) * dx\n",
        "        result += f(xi)\n",
        "    return result * dx\n",
        "\n",
        "# Gaussian quadrature method (2-point quadrature)\n",
        "def gaussian_quadrature_2pt(a, b):\n",
        "    # Quadrature points and weights for 2-point Gaussian quadrature\n",
        "    x1, x2 = -1/np.sqrt(3), 1/np.sqrt(3)\n",
        "    w1, w2 = 1, 1\n",
        "\n",
        "    # Transform the points to the interval [a, b]\n",
        "    def transform(x):\n",
        "        return 0.5 * (b - a) * x + 0.5 * (a + b)\n",
        "\n",
        "    # Apply Gaussian quadrature formula\n",
        "    result = w1 * f(transform(x1)) + w2 * f(transform(x2))\n",
        "    return 0.5 * (b - a) * result\n",
        "\n",
        "# Gaussian quadrature method (3-point quadrature)\n",
        "def gaussian_quadrature_3pt(a, b):\n",
        "    # Quadrature points and weights for 3-point Gaussian quadrature\n",
        "    x1, x2, x3 = -np.sqrt(3/5), 0, np.sqrt(3/5)\n",
        "    w1, w2, w3 = 5/9, 8/9, 5/9\n",
        "\n",
        "    # Transform the points to the interval [a, b]\n",
        "    def transform(x):\n",
        "        return 0.5 * (b - a) * x + 0.5 * (a + b)\n",
        "\n",
        "    # Apply Gaussian quadrature formula\n",
        "    result = (w1 * f(transform(x1)) +\n",
        "              w2 * f(transform(x2)) +\n",
        "              w3 * f(transform(x3)))\n",
        "    return 0.5 * (b - a) * result\n",
        "\n",
        "# Parameters\n",
        "a = -2  # Lower limit of integration\n",
        "b = 4   # Upper limit of integration\n",
        "n = 6   # Number of subintervals for Riemann's rule\n",
        "\n",
        "# Calculate the integral using the midpoint rule\n",
        "riemann_result = riemann_midpoint(a, b, n)\n",
        "print(f\"Riemann Midpoint Result: {riemann_result}\")\n",
        "\n",
        "# Calculate the integral using 2-point Gaussian quadrature\n",
        "gaussian_2pt_result = gaussian_quadrature_2pt(a, b)\n",
        "print(f\"2-Point Gaussian Quadrature Result: {gaussian_2pt_result}\")\n",
        "\n",
        "# Calculate the integral using 3-point Gaussian quadrature\n",
        "gaussian_3pt_result = gaussian_quadrature_3pt(a, b)\n",
        "print(f\"3-Point Gaussian Quadrature Result: {gaussian_3pt_result}\")\n"
      ]
    },
    {
      "cell_type": "code",
      "source": [
        "import numpy as np\n",
        "\n",
        "# Define the function to integrate\n",
        "def f(x):\n",
        "    return 1 - x - 4*x**3 + 2*x**5\n",
        "\n",
        "# Gaussian quadrature method (4-point quadrature)\n",
        "def gaussian_quadrature_4pt(a, b):\n",
        "    # Quadrature points and weights for 4-point Gaussian quadrature\n",
        "    x = [-0.8611363116, -0.3399810436, 0.3399810436, 0.8611363116]\n",
        "    w = [0.3478548451, 0.6521451549, 0.6521451549, 0.3478548451]\n",
        "\n",
        "    # Transform the points to the interval [a, b]\n",
        "    def transform(xi):\n",
        "        return 0.5 * (b - a) * xi + 0.5 * (a + b)\n",
        "\n",
        "    # Apply Gaussian quadrature formula\n",
        "    result = 0\n",
        "    for i in range(4):\n",
        "        result += w[i] * f(transform(x[i]))\n",
        "    return 0.5 * (b - a) * result\n",
        "\n",
        "# Gaussian quadrature method (6-point quadrature)\n",
        "def gaussian_quadrature_6pt(a, b):\n",
        "    # Quadrature points and weights for 6-point Gaussian quadrature\n",
        "    x = [-0.9324695142, -0.6612093865, -0.2386191861, 0.2386191861, 0.6612093865, 0.9324695142]\n",
        "    w = [0.1713244924, 0.3607615730, 0.4679139346, 0.4679139346, 0.3607615730, 0.1713244924]\n",
        "\n",
        "    # Transform the points to the interval [a, b]\n",
        "    def transform(xi):\n",
        "        return 0.5 * (b - a) * xi + 0.5 * (a + b)\n",
        "\n",
        "    # Apply Gaussian quadrature formula\n",
        "    result = 0\n",
        "    for i in range(6):\n",
        "        result += w[i] * f(transform(x[i]))\n",
        "    return 0.5 * (b - a) * result\n",
        "\n",
        "# Parameters\n",
        "a = -2  # Lower limit of integration\n",
        "b = 4   # Upper limit of integration\n",
        "\n",
        "# Calculate the integral using 4-point Gaussian quadrature\n",
        "gaussian_4pt_result = gaussian_quadrature_4pt(a, b)\n",
        "print(f\"4-Point Gaussian Quadrature Result: {gaussian_4pt_result}\")\n",
        "\n",
        "# Calculate the integral using 6-point Gaussian quadrature\n",
        "gaussian_6pt_result = gaussian_quadrature_6pt(a, b)\n",
        "print(f\"6-Point Gaussian Quadrature Result: {gaussian_6pt_result}\")\n"
      ],
      "metadata": {
        "colab": {
          "base_uri": "https://localhost:8080/"
        },
        "id": "aZVba-PnPmmy",
        "outputId": "9049fd57-e01b-4036-e2ae-05cfd1e3e2c9"
      },
      "execution_count": 2,
      "outputs": [
        {
          "output_type": "stream",
          "name": "stdout",
          "text": [
            "4-Point Gaussian Quadrature Result: 1103.9999999298743\n",
            "6-Point Gaussian Quadrature Result: 1104.0000001017486\n"
          ]
        }
      ]
    },
    {
      "cell_type": "code",
      "source": [
        "import numpy as np\n",
        "\n",
        "# Given data\n",
        "pressure = np.array([336, 294.4, 266.4, 260.8, 260.5, 249.6, 193.6, 165.6])\n",
        "volume = np.array([0.5, 2, 3, 4, 6, 8, 10, 11])\n",
        "\n",
        "# Trapezoidal Rule\n",
        "def trapezoidal_rule(x, y):\n",
        "    n = len(x)\n",
        "    total = 0\n",
        "    for i in range(1, n):\n",
        "        total += (y[i] + y[i-1]) * (x[i] - x[i-1])\n",
        "    return total * 0.5\n",
        "\n",
        "# Simpson's Rule\n",
        "def simpsons_rule(x, y):\n",
        "    n = len(x)\n",
        "    if n % 2 == 0:\n",
        "        raise ValueError(\"Simpson's rule requires an odd number of intervals (even number of points).\")\n",
        "\n",
        "    total = y[0] + y[-1]  # First and last terms\n",
        "    for i in range(1, n-1, 2):  # Odd indices\n",
        "        total += 4 * y[i]\n",
        "    for i in range(2, n-1, 2):  # Even indices\n",
        "        total += 2 * y[i]\n",
        "    h = (x[-1] - x[0]) / (n - 1)\n",
        "    return total * h / 3\n",
        "\n",
        "# Calculate work using Trapezoidal rule\n",
        "work_trapezoidal = trapezoidal_rule(volume, pressure)\n",
        "print(f\"Work using Trapezoidal Rule: {work_trapezoidal} units\")\n",
        "\n",
        "# Calculate work using Simpson's rule\n",
        "if len(volume) % 2 == 1:  # Ensure odd number of points for Simpson's rule\n",
        "    work_simpsons = simpsons_rule(volume, pressure)\n",
        "    print(f\"Work using Simpson's Rule: {work_simpsons} units\")\n",
        "else:\n",
        "    print(\"Simpson's rule cannot be applied as the number of intervals is even.\")\n"
      ],
      "metadata": {
        "id": "leeIB2sZSmRt",
        "outputId": "115087be-834d-4fa3-e7d1-58a9b9fb5746",
        "colab": {
          "base_uri": "https://localhost:8080/"
        }
      },
      "execution_count": 3,
      "outputs": [
        {
          "output_type": "stream",
          "name": "stdout",
          "text": [
            "Work using Trapezoidal Rule: 2670.9999999999995 units\n",
            "Simpson's rule cannot be applied as the number of intervals is even.\n"
          ]
        }
      ]
    }
  ]
}